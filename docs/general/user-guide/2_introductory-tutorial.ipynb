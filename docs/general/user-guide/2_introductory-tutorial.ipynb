{
 "cells": [
  {
   "cell_type": "markdown",
   "id": "11515dfc",
   "metadata": {},
   "source": [
    " # Introductory Tutorial: Boltzmann Wealth Model with mesa-frames 💰🚀\n",
    "\n",
    "In this tutorial, we'll implement the Boltzmann Wealth Model using mesa-frames. This model simulates the distribution of wealth among agents, where agents randomly give money to each other.\n",
    "\n",
    "## Setting Up the Model 🏗️\n",
    "\n",
    "First, let's import the necessary modules and set up our model class:\n"
   ]
  },
  {
   "cell_type": "code",
   "id": "fc0ee981",
   "metadata": {
    "ExecuteTime": {
     "end_time": "2025-03-24T08:10:49.609748Z",
     "start_time": "2025-03-24T08:10:49.605913Z"
    }
   },
   "source": [
    "from mesa_frames import ModelDF, AgentSetPandas, AgentSetPolars\n",
    "\n",
    "class MoneyModelDF(ModelDF):\n",
    "    def __init__(self, N: int, agents_cls):\n",
    "        super().__init__()\n",
    "        self.n_agents = N\n",
    "        self.agents += agents_cls(N, self)\n",
    "\n",
    "    def step(self):\n",
    "        self.agents.do(\"step\")\n",
    "\n",
    "    def run_model(self, n):\n",
    "        for _ in range(n):\n",
    "            self.step()"
   ],
   "outputs": [],
   "execution_count": 71
  },
  {
   "cell_type": "markdown",
   "id": "00e092c4",
   "metadata": {},
   "source": [
    "\n",
    "This `MoneyModelDF` class will work for both pandas and Polars implementations.\n",
    "\n",
    "## Implementing the AgentSet 👥\n",
    "\n",
    "Now, let's implement our `MoneyAgentSet` using both pandas and Polars backends. You can switch between the two implementations:\n",
    "\n",
    "=== \"pandas 🐼\"\n"
   ]
  },
  {
   "cell_type": "code",
   "id": "c4723780",
   "metadata": {
    "ExecuteTime": {
     "end_time": "2025-03-24T08:20:16.122944Z",
     "start_time": "2025-03-24T08:20:16.119569Z"
    }
   },
   "source": [
    "        import pandas as pd\n",
    "        import numpy as np\n",
    "\n",
    "        class MoneyAgentPandas(AgentSetPandas):\n",
    "            def __init__(self, n: int, model: ModelDF) -> None:\n",
    "                super().__init__(model)\n",
    "                self += pd.DataFrame(\n",
    "                    {\"unique_id\": np.arange(n, dtype=\"int64\"), \"wealth\": np.ones(n)}\n",
    "                )\n",
    "\n",
    "            def step(self) -> None:\n",
    "                self.do(\"give_money\")\n",
    "\n",
    "            def give_money(self):\n",
    "                self.select(self.wealth > 0)\n",
    "                other_agents = self.agents.sample(n=len(self.active_agents), replace=True)\n",
    "                self[\"active\", \"wealth\"] -= 1\n",
    "                new_wealth = other_agents.groupby(\"unique_id\").count()\n",
    "                self[new_wealth, \"wealth\"] += new_wealth[\"wealth\"]"
   ],
   "outputs": [],
   "execution_count": 92
  },
  {
   "cell_type": "markdown",
   "id": "ee169d1a",
   "metadata": {},
   "source": [
    "\n",
    "=== \"Polars 🐻‍❄️\"\n"
   ]
  },
  {
   "cell_type": "code",
   "id": "2bac0126",
   "metadata": {
    "ExecuteTime": {
     "end_time": "2025-03-24T08:11:49.514899Z",
     "start_time": "2025-03-24T08:11:49.511872Z"
    }
   },
   "source": [
    "        import polars as pl\n",
    "\n",
    "        class MoneyAgentPolars(AgentSetPolars):\n",
    "            def __init__(self, n: int, model: ModelDF):\n",
    "                super().__init__(model)\n",
    "                self += pl.DataFrame(\n",
    "                    {\"unique_id\": pl.arange(n, eager=True), \"wealth\": pl.ones(n, eager=True)}\n",
    "                )\n",
    "\n",
    "            def step(self) -> None:\n",
    "                self.do(\"give_money\")\n",
    "\n",
    "            def give_money(self):\n",
    "                self.select(self.wealth > 0)\n",
    "                other_agents = self.agents.sample(n=len(self.active_agents), with_replacement=True)\n",
    "                self[\"active\", \"wealth\"] -= 1\n",
    "                new_wealth = other_agents.group_by(\"unique_id\").len()\n",
    "                self[new_wealth[\"unique_id\"], \"wealth\"] += new_wealth[\"len\"]"
   ],
   "outputs": [],
   "execution_count": 75
  },
  {
   "cell_type": "markdown",
   "id": "3b141016",
   "metadata": {},
   "source": [
    "\n",
    "## Running the Model ▶️\n",
    "\n",
    "Now that we have our model and agent set defined, let's run a simulation:\n"
   ]
  },
  {
   "cell_type": "code",
   "id": "65da4e6f",
   "metadata": {
    "ExecuteTime": {
     "end_time": "2025-03-24T09:11:14.019917Z",
     "start_time": "2025-03-24T09:11:13.895832Z"
    }
   },
   "source": [
    "# Choose either MoneyAgentPandas or MoneyAgentPolars\n",
    "agent_class = MoneyAgentPandas  # or MoneyAgentPolars\n",
    "\n",
    "# Create and run the model\n",
    "model = MoneyModelDF(1000, agent_class)\n",
    "model.run_model(100)\n",
    "\n",
    "wealth_dist=pd.DataFrame(model.agents)\n",
    "# Print the final wealth distribution\n",
    "print(wealth_dist[\"wealth\"].describe())"
   ],
   "outputs": [
    {
     "name": "stdout",
     "output_type": "stream",
     "text": [
      "count    1000.000000\n",
      "mean        1.000000\n",
      "std         1.130167\n",
      "min         0.000000\n",
      "25%         0.000000\n",
      "50%         1.000000\n",
      "75%         2.000000\n",
      "max         7.000000\n",
      "Name: wealth, dtype: float64\n"
     ]
    },
    {
     "name": "stderr",
     "output_type": "stream",
     "text": [
      "/var/folders/gf/v29gxp314xlchy61p0nfnyqr0000gn/T/ipykernel_3947/1345562339.py:6: DeprecationWarning: AgentSetPandas is deprecated and will be removed in the next release of mesa-frames.\n",
      "  super().__init__(model)\n"
     ]
    }
   ],
   "execution_count": 135
  },
  {
   "metadata": {},
   "cell_type": "markdown",
   "source": [
    "\n",
    "Output:\n"
   ],
   "id": "9bc6700a"
  },
  {
   "metadata": {},
   "cell_type": "markdown",
   "source": [
    "```python\n",
    "count    1000.000000\n",
    "mean        1.000000\n",
    "std         1.414214\n",
    "min         0.000000\n",
    "25%         0.000000\n",
    "50%         1.000000\n",
    "75%         1.000000\n",
    "max        13.000000\n",
    "Name: wealth, dtype: float64\n",
    "```\n"
   ],
   "id": "b90dbc4adcb8e19e"
  },
  {
   "cell_type": "markdown",
   "id": "812da73b",
   "metadata": {},
   "source": [
    "\n",
    "This output shows the statistical summary of the wealth distribution after 100 steps of the simulation with 1000 agents.\n",
    "\n",
    "## Performance Comparison 🏎️💨\n",
    "\n",
    "One of the key advantages of mesa-frames is its performance with large numbers of agents. Let's compare the performance of our pandas and Polars implementations:\n"
   ]
  },
  {
   "cell_type": "code",
   "id": "2d864cd3",
   "metadata": {
    "ExecuteTime": {
     "end_time": "2025-03-24T07:58:28.307427Z",
     "start_time": "2025-03-24T07:58:28.288739Z"
    }
   },
   "source": [
    "import time\n",
    "\n",
    "def run_simulation(model_class, n_agents, n_steps):\n",
    "    start_time = time.time()\n",
    "    model = model_class(n_agents)\n",
    "    model.run_model(n_steps)\n",
    "    end_time = time.time()\n",
    "    return end_time - start_time\n",
    "\n",
    "# Compare mesa and mesa-frames implementations\n",
    "n_agents_list = [100000, 300000, 500000, 700000]\n",
    "n_steps = 100\n",
    "\n",
    "print(\"Execution times:\")\n",
    "for implementation in [\"mesa\", \"mesa-frames (pl concise)\", \"mesa-frames (pl native)\", \"mesa-frames (pd concise)\", \"mesa-frames (pd native)\"]:\n",
    "    print(f\"---------------\\n{implementation}:\")\n",
    "    for n_agents in n_agents_list:\n",
    "        if implementation == \"mesa\":\n",
    "            time = run_simulation(MoneyModel, n_agents, n_steps)\n",
    "        elif implementation == \"mesa-frames (pl concise)\":\n",
    "            time = run_simulation(lambda n: MoneyModelDF(n, MoneyAgentPolarsConcise), n_agents, n_steps)\n",
    "        elif implementation == \"mesa-frames (pl native)\":\n",
    "            time = run_simulation(lambda n: MoneyModelDF(n, MoneyAgentPolarsNative), n_agents, n_steps)\n",
    "        elif implementation == \"mesa-frames (pd concise)\":\n",
    "            time = run_simulation(lambda n: MoneyModelDF(n, MoneyAgentPandasConcise), n_agents, n_steps)\n",
    "        else:  # mesa-frames (pd native)\n",
    "            time = run_simulation(lambda n: MoneyModelDF(n, MoneyAgentPandasNative), n_agents, n_steps)\n",
    "\n",
    "        print(f\"  Number of agents: {n_agents}, Time: {time:.2f} seconds\")\n",
    "    print(\"---------------\")"
   ],
   "outputs": [
    {
     "name": "stdout",
     "output_type": "stream",
     "text": [
      "Execution times:\n",
      "---------------\n",
      "mesa:\n"
     ]
    },
    {
     "ename": "NameError",
     "evalue": "name 'MoneyModel' is not defined",
     "output_type": "error",
     "traceback": [
      "\u001B[31m---------------------------------------------------------------------------\u001B[39m",
      "\u001B[31mNameError\u001B[39m                                 Traceback (most recent call last)",
      "\u001B[36mCell\u001B[39m\u001B[36m \u001B[39m\u001B[32mIn[33]\u001B[39m\u001B[32m, line 19\u001B[39m\n\u001B[32m     17\u001B[39m \u001B[38;5;28;01mfor\u001B[39;00m n_agents \u001B[38;5;129;01min\u001B[39;00m n_agents_list:\n\u001B[32m     18\u001B[39m     \u001B[38;5;28;01mif\u001B[39;00m implementation == \u001B[33m\"\u001B[39m\u001B[33mmesa\u001B[39m\u001B[33m\"\u001B[39m:\n\u001B[32m---> \u001B[39m\u001B[32m19\u001B[39m         time = run_simulation(\u001B[43mMoneyModel\u001B[49m, n_agents, n_steps)\n\u001B[32m     20\u001B[39m     \u001B[38;5;28;01melif\u001B[39;00m implementation == \u001B[33m\"\u001B[39m\u001B[33mmesa-frames (pl concise)\u001B[39m\u001B[33m\"\u001B[39m:\n\u001B[32m     21\u001B[39m         time = run_simulation(\u001B[38;5;28;01mlambda\u001B[39;00m n: MoneyModelDF(n, MoneyAgentPolarsConcise), n_agents, n_steps)\n",
      "\u001B[31mNameError\u001B[39m: name 'MoneyModel' is not defined"
     ]
    }
   ],
   "execution_count": 33
  },
  {
   "cell_type": "markdown",
   "id": "18474841",
   "metadata": {},
   "source": [
    "\n",
    "Example output:\n"
   ]
  },
  {
   "metadata": {},
   "cell_type": "markdown",
   "source": [
    "```plaintext\n",
    "---------------\n",
    "mesa:\n",
    "  Number of agents: 100000, Time: 3.80 seconds\n",
    "  Number of agents: 300000, Time: 14.96 seconds\n",
    "  Number of agents: 500000, Time: 26.88 seconds\n",
    "  Number of agents: 700000, Time: 40.34 seconds\n",
    "---------------\n",
    "---------------\n",
    "mesa-frames (pl concise):\n",
    "  Number of agents: 100000, Time: 0.76 seconds\n",
    "  Number of agents: 300000, Time: 2.01 seconds\n",
    "  Number of agents: 500000, Time: 4.77 seconds\n",
    "  Number of agents: 700000, Time: 7.26 seconds\n",
    "---------------\n",
    "---------------\n",
    "mesa-frames (pl native):\n",
    "  Number of agents: 100000, Time: 0.35 seconds\n",
    "  Number of agents: 300000, Time: 0.85 seconds\n",
    "  Number of agents: 500000, Time: 1.55 seconds\n",
    "  Number of agents: 700000, Time: 2.61 seconds\n",
    "---------------\n",
    "---------------\n",
    "mesa-frames (pd concise):\n",
    "  Number of agents: 100000, Time: 2.37 seconds\n",
    "  Number of agents: 300000, Time: 7.47 seconds\n",
    "  Number of agents: 500000, Time: 13.29 seconds\n",
    "  Number of agents: 700000, Time: 18.32 seconds\n",
    "---------------\n",
    "---------------\n",
    "mesa-frames (pd native):\n",
    "  Number of agents: 100000, Time: 1.63 seconds\n",
    "  Number of agents: 300000, Time: 5.76 seconds\n",
    "  Number of agents: 500000, Time: 9.48 seconds\n",
    "  Number of agents: 700000, Time: 13.58 seconds\n",
    "---------------\n",
    "```"
   ],
   "id": "49243e0ad43752be"
  },
  {
   "cell_type": "markdown",
   "id": "0a437ef4",
   "metadata": {},
   "source": [
    "\n",
    "Speed-up over mesa: 🚀\n"
   ]
  },
  {
   "metadata": {},
   "cell_type": "markdown",
   "source": [
    "```plaintext\n",
    "mesa-frames (pl concise):\n",
    "  Number of agents: 100000, Speed-up: 5.00x 💨\n",
    "  Number of agents: 300000, Speed-up: 7.44x 💨\n",
    "  Number of agents: 500000, Speed-up: 5.63x 💨\n",
    "  Number of agents: 700000, Speed-up: 5.56x 💨\n",
    "---------------\n",
    "mesa-frames (pl native):\n",
    "  Number of agents: 100000, Speed-up: 10.86x 💨\n",
    "  Number of agents: 300000, Speed-up: 17.60x 💨\n",
    "  Number of agents: 500000, Speed-up: 17.34x 💨\n",
    "  Number of agents: 700000, Speed-up: 15.46x 💨\n",
    "---------------\n",
    "mesa-frames (pd concise):\n",
    "  Number of agents: 100000, Speed-up: 1.60x 💨\n",
    "  Number of agents: 300000, Speed-up: 2.00x 💨\n",
    "  Number of agents: 500000, Speed-up: 2.02x 💨\n",
    "  Number of agents: 700000, Speed-up: 2.20x 💨\n",
    "---------------\n",
    "mesa-frames (pd native):\n",
    "  Number of agents: 100000, Speed-up: 2.33x 💨\n",
    "  Number of agents: 300000, Speed-up: 2.60x 💨\n",
    "  Number of agents: 500000, Speed-up: 2.83x 💨\n",
    "  Number of agents: 700000, Speed-up: 2.97x 💨\n",
    "---------------\n",
    "```"
   ],
   "id": "b7e41628141408b3"
  },
  {
   "cell_type": "markdown",
   "id": "6dfc6d34",
   "metadata": {},
   "source": [
    "\n",
    "## Conclusion 🎉\n",
    "\n",
    "- All mesa-frames implementations significantly outperform the original mesa implementation. 🏆\n",
    "- The Polars backend consistently provides better performance than the pandas backend. 🐻‍❄️ > 🐼\n",
    "- The native implementation for both Polars and pandas shows better performance than their concise counterparts. 💪\n",
    "- The Polars native implementation shows the most impressive speed-up, ranging from 10.86x to 17.60x faster than mesa! 🚀🚀🚀\n",
    "- Even the \"slowest\" mesa-frames implementation (pandas concise) is still 1.60x to 2.20x faster than mesa. 👍\n",
    "- The performance advantage of mesa-frames becomes more pronounced as the number of agents increases. 📈\n"
   ]
  }
 ],
 "metadata": {
  "kernelspec": {
   "name": "python3",
   "language": "python",
   "display_name": "Python 3 (ipykernel)"
  }
 },
 "nbformat": 4,
 "nbformat_minor": 5
}
